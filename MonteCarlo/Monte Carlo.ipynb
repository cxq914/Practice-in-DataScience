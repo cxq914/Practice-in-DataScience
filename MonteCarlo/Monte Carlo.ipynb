{
 "cells": [
  {
   "cell_type": "code",
   "execution_count": 2,
   "metadata": {},
   "outputs": [],
   "source": [
    "import random\n",
    "import matplotlib.pyplot as plt"
   ]
  },
  {
   "cell_type": "code",
   "execution_count": 3,
   "metadata": {},
   "outputs": [],
   "source": [
    "def check_sucess(candidates, stop_time):\n",
    "    max_in_obervation = max(candidates[:stop_time])\n",
    "    chosen = 0\n",
    "    for i in range(stop_time,len(candidates)):\n",
    "        if candidates[i] >= max_in_obervation:\n",
    "            chosen = candidates[i]\n",
    "            break\n",
    "    max_in_all = max(candidates)\n",
    "    if chosen == max_in_all:\n",
    "        return True\n",
    "    else:\n",
    "        return False"
   ]
  },
  {
   "cell_type": "code",
   "execution_count": null,
   "metadata": {},
   "outputs": [],
   "source": []
  }
 ],
 "metadata": {
  "kernelspec": {
   "display_name": "Python 2",
   "language": "python",
   "name": "python2"
  },
  "language_info": {
   "codemirror_mode": {
    "name": "ipython",
    "version": 2
   },
   "file_extension": ".py",
   "mimetype": "text/x-python",
   "name": "python",
   "nbconvert_exporter": "python",
   "pygments_lexer": "ipython2",
   "version": "2.7.15"
  }
 },
 "nbformat": 4,
 "nbformat_minor": 2
}
