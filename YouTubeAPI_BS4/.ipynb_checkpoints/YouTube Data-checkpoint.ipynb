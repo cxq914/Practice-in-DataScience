{
 "cells": [
  {
   "cell_type": "code",
   "execution_count": 1,
   "metadata": {},
   "outputs": [],
   "source": [
    "import requests\n",
    "import bs4"
   ]
  },
  {
   "cell_type": "code",
   "execution_count": 146,
   "metadata": {},
   "outputs": [],
   "source": [
    "root_url = 'https://pyvideo.org'\n",
    "index_url = root_url + '/tag/tutorial/'"
   ]
  },
  {
   "cell_type": "code",
   "execution_count": 115,
   "metadata": {},
   "outputs": [],
   "source": [
    "def get_video_list():\n",
    "    response = requests.get(index_url)\n",
    "    soup = bs4.BeautifulSoup(response.text)\n",
    "    links = [a.attrs.get('href') for a in soup.select('div.content-list a[href^=/scipy-2018]')]\n",
    "    return links"
   ]
  },
  {
   "cell_type": "code",
   "execution_count": 116,
   "metadata": {},
   "outputs": [],
   "source": [
    "video_list = get_video_list()"
   ]
  },
  {
   "cell_type": "code",
   "execution_count": 117,
   "metadata": {},
   "outputs": [
    {
     "name": "stdout",
     "output_type": "stream",
     "text": [
      "['/scipy-2018/around-the-world-in-80-ways-an-introduction-to-working-w-geodata-cartopy.html', '/scipy-2018/around-the-world-in-80-ways-an-introduction-to-working-w-geodata-cartopy.html', '/scipy-2018/pyviz-easy-visualization-and-exploration-for-all-your-data.html', '/scipy-2018/pyviz-easy-visualization-and-exploration-for-all-your-data.html', '/scipy-2018/introduction-to-geospatial-data-analysis-with-python.html', '/scipy-2018/introduction-to-geospatial-data-analysis-with-python.html', '/scipy-2018/machine-learning-with-scikit-learn-part-1.html', '/scipy-2018/machine-learning-with-scikit-learn-part-1.html', '/scipy-2018/machine-learning-with-scikit-learn-part-2.html', '/scipy-2018/machine-learning-with-scikit-learn-part-2.html', '/scipy-2018/the-sheer-joy-of-packaging.html', '/scipy-2018/the-sheer-joy-of-packaging.html', '/scipy-2018/3d-visualization-with-mayavi.html', '/scipy-2018/3d-visualization-with-mayavi.html', '/scipy-2018/bayesian-data-science-two-ways-simulation-and-probabilistic-programming.html', '/scipy-2018/bayesian-data-science-two-ways-simulation-and-probabilistic-programming.html']\n"
     ]
    }
   ],
   "source": [
    "print video_list"
   ]
  },
  {
   "cell_type": "code",
   "execution_count": 229,
   "metadata": {},
   "outputs": [],
   "source": [
    "def get_video_data(video_page_url):\n",
    "    video_data = {}\n",
    "    response = requests.get(root_url + video_page_url)\n",
    "    soup = bs4.BeautifulSoup(response.text)\n",
    "    video_data['title'] = soup.select('.entry-title a[href^=https:]')[0].get_text()\n",
    "    video_data['time'] = soup.select('time.published')[0].get_text()\n",
    "    video_data['speakers'] = [a.get_text() for a in soup.select('address.author a[href^=https://pyvideo.org/speaker]')]\n",
    "    video_data['youtube_url'] = [a.attrs.get('href') for a in soup.select('div.details-content a[href^=https://www.youtube.com]')]\n",
    "    response = requests.get(video_data['youtube_url'][0])\n",
    "    soup = bs4.BeautifulSoup(response.text)\n",
    "    views = soup.select('.watch-view-count')[0].get_text().split()[0]\n",
    "    views = views.split(',')\n",
    "    views = \"\".join(views)\n",
    "    video_data['views'] = int(views)\n",
    "    video_data['likes'] = soup.find(\"button\",attrs={\"title\": \"I like this\"}).get_text()\n",
    "    video_data['dislikes'] = soup.find(\"button\",attrs={\"title\": \"I dislike this\"}).get_text()\n",
    "    return video_data\n",
    "    "
   ]
  },
  {
   "cell_type": "code",
   "execution_count": 240,
   "metadata": {},
   "outputs": [],
   "source": [
    "def show_video_stats():\n",
    "    video_page_urls = get_video_list()\n",
    "    for video_page_url in video_page_urls:\n",
    "        all_data = []\n",
    "        print video_page_url\n",
    "        print root_url + video_page_url\n",
    "        all_data = all_data.append(get_video_data(video_page_url))\n",
    "        return all_data"
   ]
  },
  {
   "cell_type": "code",
   "execution_count": 241,
   "metadata": {},
   "outputs": [
    {
     "name": "stdout",
     "output_type": "stream",
     "text": [
      "/scipy-2018/around-the-world-in-80-ways-an-introduction-to-working-w-geodata-cartopy.html\n",
      "https://pyvideo.org/scipy-2018/around-the-world-in-80-ways-an-introduction-to-working-w-geodata-cartopy.html\n"
     ]
    }
   ],
   "source": [
    "dat = show_video_stats()"
   ]
  },
  {
   "cell_type": "code",
   "execution_count": 243,
   "metadata": {},
   "outputs": [
    {
     "name": "stdout",
     "output_type": "stream",
     "text": [
      "None\n"
     ]
    }
   ],
   "source": []
  },
  {
   "cell_type": "code",
   "execution_count": 215,
   "metadata": {},
   "outputs": [],
   "source": [
    "response = requests.get('https://www.youtube.com/watch?v=aZ1G_Q7ovmc')"
   ]
  },
  {
   "cell_type": "code",
   "execution_count": 216,
   "metadata": {},
   "outputs": [],
   "source": [
    "soup = bs4.BeautifulSoup(response.text)"
   ]
  },
  {
   "cell_type": "code",
   "execution_count": 223,
   "metadata": {},
   "outputs": [],
   "source": [
    "test = soup.select('.watch-view-count')[0].get_text().split()[0]"
   ]
  },
  {
   "cell_type": "code",
   "execution_count": 225,
   "metadata": {},
   "outputs": [],
   "source": [
    "test = test.split(',')"
   ]
  },
  {
   "cell_type": "code",
   "execution_count": 226,
   "metadata": {},
   "outputs": [],
   "source": [
    "test = \"\".join(test)"
   ]
  },
  {
   "cell_type": "code",
   "execution_count": 228,
   "metadata": {},
   "outputs": [
    {
     "data": {
      "text/plain": [
       "7134"
      ]
     },
     "execution_count": 228,
     "metadata": {},
     "output_type": "execute_result"
    }
   ],
   "source": [
    "int(test)"
   ]
  },
  {
   "cell_type": "code",
   "execution_count": null,
   "metadata": {},
   "outputs": [],
   "source": [
    "video_data['views'] = int(soup.select('.watch-view-count')[0].get_text().split()[0])"
   ]
  },
  {
   "cell_type": "code",
   "execution_count": 208,
   "metadata": {},
   "outputs": [],
   "source": [
    "video_data = {}"
   ]
  },
  {
   "cell_type": "code",
   "execution_count": 209,
   "metadata": {},
   "outputs": [],
   "source": [
    "video_data['title'] = soup.select('.entry-title a[href^=https:]')[0].get_text()"
   ]
  },
  {
   "cell_type": "code",
   "execution_count": 196,
   "metadata": {},
   "outputs": [
    {
     "name": "stdout",
     "output_type": "stream",
     "text": [
      "{'speakers': [u'Philip Elson', u'Bill Little'], 'time': u'\\n Thu 12 July 2018\\n    ', 'youtube_url': ['https://www.youtube.com/watch?v=AmidIx6Jmn8'], 'title': u'Around the World in 80 Ways: An Introduction to Working w/ Geodata & Cartopy\\n      '}\n"
     ]
    }
   ],
   "source": [
    "print video_data"
   ]
  },
  {
   "cell_type": "code",
   "execution_count": 191,
   "metadata": {},
   "outputs": [],
   "source": [
    "video_data['time'] = soup.select('time.published')[0].get_text()"
   ]
  },
  {
   "cell_type": "code",
   "execution_count": 193,
   "metadata": {},
   "outputs": [],
   "source": [
    "video_data['speakers'] = [a.get_text() for a in soup.select('address.author a[href^=https://pyvideo.org/speaker]')]"
   ]
  },
  {
   "cell_type": "code",
   "execution_count": 195,
   "metadata": {},
   "outputs": [],
   "source": [
    "video_data['youtube_url'] = [a.attrs.get('href') for a in soup.select('div.details-content a[href^=https://www.youtube.com]')]"
   ]
  },
  {
   "cell_type": "code",
   "execution_count": 198,
   "metadata": {},
   "outputs": [],
   "source": [
    "response = requests.get(video_data['youtube_url'][0])"
   ]
  },
  {
   "cell_type": "code",
   "execution_count": null,
   "metadata": {},
   "outputs": [],
   "source": []
  }
 ],
 "metadata": {
  "kernelspec": {
   "display_name": "Python 2",
   "language": "python",
   "name": "python2"
  },
  "language_info": {
   "codemirror_mode": {
    "name": "ipython",
    "version": 2
   },
   "file_extension": ".py",
   "mimetype": "text/x-python",
   "name": "python",
   "nbconvert_exporter": "python",
   "pygments_lexer": "ipython2",
   "version": "2.7.15"
  }
 },
 "nbformat": 4,
 "nbformat_minor": 2
}
