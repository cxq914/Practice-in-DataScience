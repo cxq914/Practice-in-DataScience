{
 "cells": [
  {
   "cell_type": "code",
   "execution_count": 1,
   "metadata": {},
   "outputs": [],
   "source": [
    "import requests\n",
    "import bs4"
   ]
  },
  {
   "cell_type": "code",
   "execution_count": 2,
   "metadata": {},
   "outputs": [],
   "source": [
    "root_url = 'https://pyvideo.org'\n",
    "index_url = root_url + '/tag/tutorial/'"
   ]
  },
  {
   "cell_type": "code",
   "execution_count": 3,
   "metadata": {},
   "outputs": [],
   "source": [
    "def get_video_list():\n",
    "    response = requests.get(index_url)\n",
    "    soup = bs4.BeautifulSoup(response.text)\n",
    "    links = [a.attrs.get('href') for a in soup.select('div.content-list a[href^=/scipy-2018]')]\n",
    "    return links"
   ]
  },
  {
   "cell_type": "code",
   "execution_count": 4,
   "metadata": {},
   "outputs": [],
   "source": [
    "video_list = get_video_list()"
   ]
  },
  {
   "cell_type": "code",
   "execution_count": 5,
   "metadata": {},
   "outputs": [
    {
     "name": "stdout",
     "output_type": "stream",
     "text": [
      "['/scipy-2018/around-the-world-in-80-ways-an-introduction-to-working-w-geodata-cartopy.html', '/scipy-2018/around-the-world-in-80-ways-an-introduction-to-working-w-geodata-cartopy.html', '/scipy-2018/pyviz-easy-visualization-and-exploration-for-all-your-data.html', '/scipy-2018/pyviz-easy-visualization-and-exploration-for-all-your-data.html', '/scipy-2018/introduction-to-geospatial-data-analysis-with-python.html', '/scipy-2018/introduction-to-geospatial-data-analysis-with-python.html', '/scipy-2018/machine-learning-with-scikit-learn-part-1.html', '/scipy-2018/machine-learning-with-scikit-learn-part-1.html', '/scipy-2018/machine-learning-with-scikit-learn-part-2.html', '/scipy-2018/machine-learning-with-scikit-learn-part-2.html', '/scipy-2018/the-sheer-joy-of-packaging.html', '/scipy-2018/the-sheer-joy-of-packaging.html', '/scipy-2018/3d-visualization-with-mayavi.html', '/scipy-2018/3d-visualization-with-mayavi.html', '/scipy-2018/bayesian-data-science-two-ways-simulation-and-probabilistic-programming.html', '/scipy-2018/bayesian-data-science-two-ways-simulation-and-probabilistic-programming.html']\n"
     ]
    }
   ],
   "source": [
    "print video_list"
   ]
  },
  {
   "cell_type": "code",
   "execution_count": 6,
   "metadata": {},
   "outputs": [],
   "source": [
    "def get_video_data(video_page_url):\n",
    "    video_data = {}\n",
    "    response = requests.get(root_url + video_page_url)\n",
    "    soup = bs4.BeautifulSoup(response.text)\n",
    "    video_data['title'] = soup.select('.entry-title a[href^=https:]')[0].get_text()\n",
    "    video_data['time'] = soup.select('time.published')[0].get_text()\n",
    "    video_data['speakers'] = [a.get_text() for a in soup.select('address.author a[href^=https://pyvideo.org/speaker]')]\n",
    "    video_data['youtube_url'] = [a.attrs.get('href') for a in soup.select('div.details-content a[href^=https://www.youtube.com]')]\n",
    "    response = requests.get(video_data['youtube_url'][0])\n",
    "    soup = bs4.BeautifulSoup(response.text)\n",
    "    views = soup.select('.watch-view-count')[0].get_text().split()[0]\n",
    "    views = views.split(',')\n",
    "    views = \"\".join(views)\n",
    "    video_data['views'] = int(views)\n",
    "    video_data['likes'] = soup.find(\"button\",attrs={\"title\": \"I like this\"}).get_text()\n",
    "    video_data['dislikes'] = soup.find(\"button\",attrs={\"title\": \"I dislike this\"}).get_text()\n",
    "    return video_data\n",
    "    "
   ]
  },
  {
   "cell_type": "code",
   "execution_count": 9,
   "metadata": {},
   "outputs": [],
   "source": [
    "def show_video_stats():\n",
    "    video_page_urls = get_video_list()\n",
    "    for video_page_url in video_page_urls:\n",
    "        all_data = []\n",
    "        print video_page_url\n",
    "        print root_url + video_page_url\n",
    "        all_data = all_data.append(get_video_data(video_page_url))\n",
    "        return all_data"
   ]
  },
  {
   "cell_type": "code",
   "execution_count": 10,
   "metadata": {},
   "outputs": [
    {
     "name": "stdout",
     "output_type": "stream",
     "text": [
      "/scipy-2018/around-the-world-in-80-ways-an-introduction-to-working-w-geodata-cartopy.html\n",
      "https://pyvideo.org/scipy-2018/around-the-world-in-80-ways-an-introduction-to-working-w-geodata-cartopy.html\n"
     ]
    }
   ],
   "source": [
    "dat = show_video_stats()"
   ]
  },
  {
   "cell_type": "code",
   "execution_count": null,
   "metadata": {},
   "outputs": [],
   "source": []
  },
  {
   "cell_type": "code",
   "execution_count": 11,
   "metadata": {},
   "outputs": [],
   "source": [
    "response = requests.get('https://www.youtube.com/watch?v=aZ1G_Q7ovmc')"
   ]
  },
  {
   "cell_type": "code",
   "execution_count": 12,
   "metadata": {},
   "outputs": [],
   "source": [
    "soup = bs4.BeautifulSoup(response.text)"
   ]
  },
  {
   "cell_type": "code",
   "execution_count": 13,
   "metadata": {},
   "outputs": [],
   "source": [
    "test = soup.select('.watch-view-count')[0].get_text().split()[0]"
   ]
  },
  {
   "cell_type": "code",
   "execution_count": 14,
   "metadata": {},
   "outputs": [],
   "source": [
    "test = test.split(',')"
   ]
  },
  {
   "cell_type": "code",
   "execution_count": 15,
   "metadata": {},
   "outputs": [],
   "source": [
    "test = \"\".join(test)"
   ]
  },
  {
   "cell_type": "code",
   "execution_count": 19,
   "metadata": {},
   "outputs": [
    {
     "data": {
      "text/plain": [
       "11229"
      ]
     },
     "execution_count": 19,
     "metadata": {},
     "output_type": "execute_result"
    }
   ],
   "source": [
    "int(test)"
   ]
  },
  {
   "cell_type": "code",
   "execution_count": 18,
   "metadata": {},
   "outputs": [
    {
     "ename": "ValueError",
     "evalue": "invalid literal for int() with base 10: '11,229'",
     "output_type": "error",
     "traceback": [
      "\u001b[0;31m---------------------------------------------------------------------------\u001b[0m",
      "\u001b[0;31mValueError\u001b[0m                                Traceback (most recent call last)",
      "\u001b[0;32m<ipython-input-18-153a40d35059>\u001b[0m in \u001b[0;36m<module>\u001b[0;34m()\u001b[0m\n\u001b[0;32m----> 1\u001b[0;31m \u001b[0mvideo_data\u001b[0m\u001b[0;34m[\u001b[0m\u001b[0;34m'views'\u001b[0m\u001b[0;34m]\u001b[0m \u001b[0;34m=\u001b[0m \u001b[0mint\u001b[0m\u001b[0;34m(\u001b[0m\u001b[0msoup\u001b[0m\u001b[0;34m.\u001b[0m\u001b[0mselect\u001b[0m\u001b[0;34m(\u001b[0m\u001b[0;34m'.watch-view-count'\u001b[0m\u001b[0;34m)\u001b[0m\u001b[0;34m[\u001b[0m\u001b[0;36m0\u001b[0m\u001b[0;34m]\u001b[0m\u001b[0;34m.\u001b[0m\u001b[0mget_text\u001b[0m\u001b[0;34m(\u001b[0m\u001b[0;34m)\u001b[0m\u001b[0;34m.\u001b[0m\u001b[0msplit\u001b[0m\u001b[0;34m(\u001b[0m\u001b[0;34m)\u001b[0m\u001b[0;34m[\u001b[0m\u001b[0;36m0\u001b[0m\u001b[0;34m]\u001b[0m\u001b[0;34m)\u001b[0m\u001b[0;34m\u001b[0m\u001b[0m\n\u001b[0m",
      "\u001b[0;31mValueError\u001b[0m: invalid literal for int() with base 10: '11,229'"
     ]
    }
   ],
   "source": [
    "video_data['views'] = int(soup.select('.watch-view-count')[0].get_text().split()[0])"
   ]
  },
  {
   "cell_type": "code",
   "execution_count": 20,
   "metadata": {},
   "outputs": [],
   "source": [
    "video_data = {}"
   ]
  },
  {
   "cell_type": "code",
   "execution_count": 21,
   "metadata": {},
   "outputs": [
    {
     "ename": "IndexError",
     "evalue": "list index out of range",
     "output_type": "error",
     "traceback": [
      "\u001b[0;31m---------------------------------------------------------------------------\u001b[0m",
      "\u001b[0;31mIndexError\u001b[0m                                Traceback (most recent call last)",
      "\u001b[0;32m<ipython-input-21-3a637486895d>\u001b[0m in \u001b[0;36m<module>\u001b[0;34m()\u001b[0m\n\u001b[0;32m----> 1\u001b[0;31m \u001b[0mvideo_data\u001b[0m\u001b[0;34m[\u001b[0m\u001b[0;34m'title'\u001b[0m\u001b[0;34m]\u001b[0m \u001b[0;34m=\u001b[0m \u001b[0msoup\u001b[0m\u001b[0;34m.\u001b[0m\u001b[0mselect\u001b[0m\u001b[0;34m(\u001b[0m\u001b[0;34m'.entry-title a[href^=https:]'\u001b[0m\u001b[0;34m)\u001b[0m\u001b[0;34m[\u001b[0m\u001b[0;36m0\u001b[0m\u001b[0;34m]\u001b[0m\u001b[0;34m.\u001b[0m\u001b[0mget_text\u001b[0m\u001b[0;34m(\u001b[0m\u001b[0;34m)\u001b[0m\u001b[0;34m\u001b[0m\u001b[0m\n\u001b[0m",
      "\u001b[0;31mIndexError\u001b[0m: list index out of range"
     ]
    }
   ],
   "source": [
    "video_data['title'] = soup.select('.entry-title a[href^=https:]')[0].get_text()"
   ]
  },
  {
   "cell_type": "code",
   "execution_count": 22,
   "metadata": {},
   "outputs": [
    {
     "name": "stdout",
     "output_type": "stream",
     "text": [
      "{}\n"
     ]
    }
   ],
   "source": [
    "print video_data"
   ]
  },
  {
   "cell_type": "code",
   "execution_count": 191,
   "metadata": {},
   "outputs": [],
   "source": [
    "video_data['time'] = soup.select('time.published')[0].get_text()"
   ]
  },
  {
   "cell_type": "code",
   "execution_count": 193,
   "metadata": {},
   "outputs": [],
   "source": [
    "video_data['speakers'] = [a.get_text() for a in soup.select('address.author a[href^=https://pyvideo.org/speaker]')]"
   ]
  },
  {
   "cell_type": "code",
   "execution_count": 195,
   "metadata": {},
   "outputs": [],
   "source": [
    "video_data['youtube_url'] = [a.attrs.get('href') for a in soup.select('div.details-content a[href^=https://www.youtube.com]')]"
   ]
  },
  {
   "cell_type": "code",
   "execution_count": 198,
   "metadata": {},
   "outputs": [],
   "source": [
    "response = requests.get(video_data['youtube_url'][0])"
   ]
  },
  {
   "cell_type": "code",
   "execution_count": null,
   "metadata": {},
   "outputs": [],
   "source": []
  }
 ],
 "metadata": {
  "kernelspec": {
   "display_name": "Python 2",
   "language": "python",
   "name": "python2"
  },
  "language_info": {
   "codemirror_mode": {
    "name": "ipython",
    "version": 2
   },
   "file_extension": ".py",
   "mimetype": "text/x-python",
   "name": "python",
   "nbconvert_exporter": "python",
   "pygments_lexer": "ipython2",
   "version": "2.7.15"
  }
 },
 "nbformat": 4,
 "nbformat_minor": 2
}
