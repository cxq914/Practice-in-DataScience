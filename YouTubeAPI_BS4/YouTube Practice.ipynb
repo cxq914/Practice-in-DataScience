{
 "cells": [
  {
   "cell_type": "code",
   "execution_count": 1,
   "metadata": {},
   "outputs": [],
   "source": [
    "import requests\n",
    "import bs4\n",
    "import json\n",
    "import pandas as pd\n",
    "import matplotlib.pyplot as plt\n",
    "import matplotlib.dates as mdates"
   ]
  },
  {
   "cell_type": "code",
   "execution_count": 3,
   "metadata": {},
   "outputs": [],
   "source": [
    "url = \"https://www.youtube.com/channel/UC4xKdmAXFh4ACyhpiQ_3qBw\"\n",
    "v_url = []"
   ]
  },
  {
   "cell_type": "code",
   "execution_count": 4,
   "metadata": {},
   "outputs": [],
   "source": [
    "def get_video_list(url):\n",
    "    page = requests.get(url).content\n",
    "    data = str(page).split(' ')\n",
    "    item = 'href=\"/watch?'\n",
    "    vids = [line.replace('href=\"', 'https://youtube.com') for line in data if item in line] # list of all videos listed twice\n",
    "    for item in vids:\n",
    "        v_url.append(item.split(\";\")[0])\n",
    "    return v_url"
   ]
  },
  {
   "cell_type": "code",
   "execution_count": 5,
   "metadata": {},
   "outputs": [
    {
     "name": "stdout",
     "output_type": "stream",
     "text": [
      "['https://youtube.com/watch?v=N7E_xkAPWs0\"', 'https://youtube.com/watch?v=-brF6SUXbns\"', 'https://youtube.com/watch?v=NxJCSI7a8wk&amp', 'https://youtube.com/watch?v=3aZorQ1U7vM\"', 'https://youtube.com/watch?v=vAXTP8HTHr8\"', 'https://youtube.com/watch?v=7t2X-kMhPIA\"', 'https://youtube.com/watch?v=DYLSkySSF0I\"', 'https://youtube.com/watch?v=Ap2uWsJV25w\"', 'https://youtube.com/watch?v=LQFsEwcCO1E\"', 'https://youtube.com/watch?v=EcojyBV4QJ4\"', 'https://youtube.com/watch?v=fssFXlNk6vw\"', 'https://youtube.com/watch?v=XGpaK9vt0tw\"', 'https://youtube.com/watch?v=kapNVurryRA\"', 'https://youtube.com/watch?v=BnwB8Oh628Q\"', 'https://youtube.com/watch?v=FSVVe-Inhyg\"', 'https://youtube.com/watch?v=NxJCSI7a8wk\"', 'https://youtube.com/watch?v=-W_VsLXmjJU\"', 'https://youtube.com/watch?v=EHtFnNIIasc\"', 'https://youtube.com/watch?v=2pIJoPkh9IU\"', 'https://youtube.com/watch?v=u4oMEljRzBY\"', 'https://youtube.com/watch?v=EcojyBV4QJ4&amp', 'https://youtube.com/watch?v=w4t_xTegGBE\"', 'https://youtube.com/watch?v=GAgegNHVXxE\"', 'https://youtube.com/watch?v=zZ3F7Dodps8\"', 'https://youtube.com/watch?v=R2pIutTspQA\"', 'https://youtube.com/watch?v=Gzj_rwg4wdQ\"']\n"
     ]
    }
   ],
   "source": [
    "#validate the video url list\n",
    "v_url=get_video_list(url)\n",
    "v_url = list(set(v_url))\n",
    "print v_url"
   ]
  },
  {
   "cell_type": "code",
   "execution_count": 6,
   "metadata": {},
   "outputs": [],
   "source": [
    "def get_video_data(video_page_url):\n",
    "    video_data = {}\n",
    "    response = requests.get(video_page_url)\n",
    "    soup = bs4.BeautifulSoup(response.text)\n",
    "    #video_data['title'] = soup.select('.entry-title a[href^=https:]')[0].get_text()\n",
    "    video_data['URL'] = video_page_url\n",
    "    for span in soup.findAll('span',attrs={'class': 'watch-title'}):\n",
    "        video_data['TITLE'] = span.text.strip()\n",
    "    for script in soup.findAll('script',attrs={'type': 'application/ld+json'}):\n",
    "        channelDesctiption = json.loads(script.text.strip())\n",
    "        video_data['CHANNEL_NAME'] = channelDesctiption['itemListElement'][0]['item']['name']\n",
    "    for div in soup.findAll('div',attrs={'class': 'watch-view-count'}):\n",
    "        video_data['NUMBER_OF_VIEWS'] = div.text.strip()\n",
    "    for button in soup.findAll('button',attrs={'title': 'I like this'}):\n",
    "        video_data['LIKES'] = button.text.strip()\n",
    "    for button in soup.findAll('button',attrs={'title': 'I dislike this'}):\n",
    "        video_data['DISLIKES'] = button.text.strip()\n",
    "    for span in soup.findAll('span',attrs={'class': 'yt-subscription-button-subscriber-count-branded-horizontal yt-subscriber-count'}):\n",
    "        video_data['NUMBER_OF_SUBSCRIPTIONS'] = span.text.strip()\n",
    "  #  hashtags = []\n",
    "  #  for span in soup.findAll('span',attrs={'class': 'standalone-collection-badge-renderer-text'}):\n",
    "  #      for a in span.findAll('a',attrs={'class': 'yt-uix-sessionlink'}):\n",
    "  #          hashtags.append(a.text.strip())\n",
    "  #  video_data['HASH_TAGS'] = hashtags\n",
    "    video_data['DATE'] = soup.find('strong', 'watch-time-text').get_text().replace(\"Published on \", \"\")\n",
    "   # df = pd.DataFrame(video_data)\n",
    "    return video_data\n",
    "    "
   ]
  },
  {
   "cell_type": "code",
   "execution_count": 7,
   "metadata": {},
   "outputs": [],
   "source": [
    "def show_video_stats(video_page_urls):\n",
    "    dat = get_video_data(video_page_urls[0])\n",
    "    dat['DISLIKES'] = int(str(dat['DISLIKES']).replace('K','000').replace(',',''))\n",
    "    dat['LIKES'] = int(str(dat['LIKES']).replace('K','000').replace(',',''))\n",
    "    dat['NUMBER_OF_SUBSCRIPTIONS'] = int(str(dat['NUMBER_OF_SUBSCRIPTIONS']).replace('K','000').replace(',',''))\n",
    "    dat['NUMBER_OF_VIEWS'] = dat['NUMBER_OF_VIEWS'].split(' ')[0]\n",
    "    dat['NUMBER_OF_VIEWS'] = int(str(dat['NUMBER_OF_VIEWS']).replace('K','000').replace(',',''))\n",
    "    all_data = pd.DataFrame.from_dict(dat,orient='index').T\n",
    "    for video_page_url in video_page_urls:\n",
    "        #print video_page_url\n",
    "        dat = get_video_data(video_page_url)\n",
    "        dat['DISLIKES'] = int(str(dat['DISLIKES']).replace('K','000').replace(',',''))\n",
    "        dat['LIKES'] = int(str(dat['LIKES']).replace('K','000').replace(',',''))\n",
    "        dat['NUMBER_OF_SUBSCRIPTIONS'] = int(str(dat['NUMBER_OF_SUBSCRIPTIONS']).replace('K','000').replace(',',''))\n",
    "        dat['NUMBER_OF_VIEWS'] = dat['NUMBER_OF_VIEWS'].split(' ')[0]\n",
    "        dat['NUMBER_OF_VIEWS'] = int(str(dat['NUMBER_OF_VIEWS']).replace('K','000').replace(',',''))\n",
    "        df = pd.DataFrame.from_dict(dat,orient='index').T\n",
    "        all_data = all_data.append(df)\n",
    "    return all_data"
   ]
  },
  {
   "cell_type": "code",
   "execution_count": 8,
   "metadata": {},
   "outputs": [],
   "source": [
    "dat = show_video_stats(v_url)\n",
    "dat[\"date_formatted\"] = pd.to_datetime(dat['DATE'], infer_datetime_format=True)"
   ]
  },
  {
   "cell_type": "code",
   "execution_count": 10,
   "metadata": {},
   "outputs": [],
   "source": [
    "#df = get_video_data(v_url[0])"
   ]
  },
  {
   "cell_type": "code",
   "execution_count": 63,
   "metadata": {},
   "outputs": [],
   "source": [
    "#df should include date, and the metric \n",
    "def viz_trend_by_time(df):\n",
    "    df.columns = ['Date','Metric']\n",
    "    views = df.groupby(['Date']).agg(['sum','count'])\n",
    "    views['mean']=views['Metric']['sum']/views['Metric']['count']\n",
    "    views['date'] = views.index\n",
    "    plt.plot(views['date'],views['mean'])\n",
    "    plt.gcf().autofmt_xdate()\n",
    "    #fig.autofmt_xdate()\n",
    "    plt.show()"
   ]
  },
  {
   "cell_type": "code",
   "execution_count": 65,
   "metadata": {},
   "outputs": [
    {
     "data": {
      "image/png": "[encoded data removed]",
      "text/plain": [
       "<Figure size 432x288 with 1 Axes>"
      ]
     },
     "metadata": {
      "needs_background": "light"
     },
     "output_type": "display_data"
    }
   ],
   "source": [
    "viz_trend_by_time(dat[['date_formatted', 'LIKES']])"
   ]
  },
  {
   "cell_type": "code",
   "execution_count": 55,
   "metadata": {},
   "outputs": [],
   "source": []
  },
  {
   "cell_type": "code",
   "execution_count": 20,
   "metadata": {},
   "outputs": [],
   "source": []
  },
  {
   "cell_type": "code",
   "execution_count": 269,
   "metadata": {},
   "outputs": [],
   "source": [
    "def data_process(dat):\n",
    "    dat['DISLIKES'] = int(str(dat['DISLIKES']).replace('K','000'))\n",
    "    dat['LIKES'] = int(str(dat['LIKES']).replace(',','').replace('K','000'))\n",
    "    dat['NUMBER_OF_SUBSCRIPTIONS'] = int(str(dat['NUMBER_OF_SUBSCRIPTIONS']).replace('K','000'))\n",
    "    dat['NUMBER_OF_VIEWS'] = dat['NUMBER_OF_VIEWS'].split(' ')[0].replace(',','')\n",
    "    dat['NUMBER_OF_VIEWS'] = int(str(dat['NUMBER_OF_VIEWS']).replace('K','000'))\n",
    "    return dat"
   ]
  },
  {
   "cell_type": "code",
   "execution_count": 281,
   "metadata": {},
   "outputs": [
    {
     "data": {
      "text/plain": [
       "{'CHANNEL_NAME': u'TechLead',\n",
       " 'DATE': u'Sep 19, 2019',\n",
       " 'DISLIKES': 238,\n",
       " 'LIKES': u'4,096',\n",
       " 'NUMBER_OF_SUBSCRIPTIONS': u'548K',\n",
       " 'NUMBER_OF_VIEWS': u'90,165 views',\n",
       " 'TITLE': u'Making $150,000/month on YouTube: What it takes to succeed (ft. Graham Stephan).',\n",
       " 'URL': 'https://youtube.com/watch?v=8JfxhLfqXUM\"'}"
      ]
     },
     "execution_count": 281,
     "metadata": {},
     "output_type": "execute_result"
    }
   ],
   "source": [
    "df"
   ]
  },
  {
   "cell_type": "code",
   "execution_count": 282,
   "metadata": {},
   "outputs": [
    {
     "ename": "ValueError",
     "evalue": "invalid literal for int() with base 10: '4,096'",
     "output_type": "error",
     "traceback": [
      "\u001b[0;31m---------------------------------------------------------------------------\u001b[0m",
      "\u001b[0;31mValueError\u001b[0m                                Traceback (most recent call last)",
      "\u001b[0;32m<ipython-input-282-33039f156534>\u001b[0m in \u001b[0;36m<module>\u001b[0;34m()\u001b[0m\n\u001b[0;32m----> 1\u001b[0;31m \u001b[0mdf\u001b[0m\u001b[0;34m[\u001b[0m\u001b[0;34m'LIKES'\u001b[0m\u001b[0;34m]\u001b[0m \u001b[0;34m=\u001b[0m \u001b[0mint\u001b[0m\u001b[0;34m(\u001b[0m\u001b[0mstr\u001b[0m\u001b[0;34m(\u001b[0m\u001b[0mdf\u001b[0m\u001b[0;34m[\u001b[0m\u001b[0;34m'LIKES'\u001b[0m\u001b[0;34m]\u001b[0m\u001b[0;34m)\u001b[0m\u001b[0;34m.\u001b[0m\u001b[0mreplace\u001b[0m\u001b[0;34m(\u001b[0m\u001b[0;34m'K'\u001b[0m\u001b[0;34m,\u001b[0m\u001b[0;34m'000'\u001b[0m\u001b[0;34m)\u001b[0m\u001b[0;34m)\u001b[0m\u001b[0;34m\u001b[0m\u001b[0m\n\u001b[0m",
      "\u001b[0;31mValueError\u001b[0m: invalid literal for int() with base 10: '4,096'"
     ]
    }
   ],
   "source": [
    "df['LIKES'] = int(str(df['LIKES']).replace('K','000'))"
   ]
  },
  {
   "cell_type": "code",
   "execution_count": 288,
   "metadata": {},
   "outputs": [
    {
     "data": {
      "text/plain": [
       "'4096'"
      ]
     },
     "execution_count": 288,
     "metadata": {},
     "output_type": "execute_result"
    }
   ],
   "source": [
    "str(df['LIKES']).replace(',','').replace('K','000')"
   ]
  },
  {
   "cell_type": "code",
   "execution_count": 11,
   "metadata": {},
   "outputs": [],
   "source": [
    "response = requests.get('https://www.youtube.com/watch?v=aZ1G_Q7ovmc')"
   ]
  },
  {
   "cell_type": "code",
   "execution_count": 12,
   "metadata": {},
   "outputs": [],
   "source": [
    "soup = bs4.BeautifulSoup(response.text)"
   ]
  },
  {
   "cell_type": "code",
   "execution_count": 13,
   "metadata": {},
   "outputs": [],
   "source": [
    "test = soup.select('.watch-view-count')[0].get_text().split()[0]"
   ]
  },
  {
   "cell_type": "code",
   "execution_count": 14,
   "metadata": {},
   "outputs": [],
   "source": [
    "test = test.split(',')"
   ]
  },
  {
   "cell_type": "code",
   "execution_count": 15,
   "metadata": {},
   "outputs": [],
   "source": [
    "test = \"\".join(test)"
   ]
  },
  {
   "cell_type": "code",
   "execution_count": 19,
   "metadata": {},
   "outputs": [
    {
     "data": {
      "text/plain": [
       "11229"
      ]
     },
     "execution_count": 19,
     "metadata": {},
     "output_type": "execute_result"
    }
   ],
   "source": [
    "int(test)"
   ]
  },
  {
   "cell_type": "code",
   "execution_count": 18,
   "metadata": {},
   "outputs": [
    {
     "ename": "ValueError",
     "evalue": "invalid literal for int() with base 10: '11,229'",
     "output_type": "error",
     "traceback": [
      "\u001b[0;31m---------------------------------------------------------------------------\u001b[0m",
      "\u001b[0;31mValueError\u001b[0m                                Traceback (most recent call last)",
      "\u001b[0;32m<ipython-input-18-153a40d35059>\u001b[0m in \u001b[0;36m<module>\u001b[0;34m()\u001b[0m\n\u001b[0;32m----> 1\u001b[0;31m \u001b[0mvideo_data\u001b[0m\u001b[0;34m[\u001b[0m\u001b[0;34m'views'\u001b[0m\u001b[0;34m]\u001b[0m \u001b[0;34m=\u001b[0m \u001b[0mint\u001b[0m\u001b[0;34m(\u001b[0m\u001b[0msoup\u001b[0m\u001b[0;34m.\u001b[0m\u001b[0mselect\u001b[0m\u001b[0;34m(\u001b[0m\u001b[0;34m'.watch-view-count'\u001b[0m\u001b[0;34m)\u001b[0m\u001b[0;34m[\u001b[0m\u001b[0;36m0\u001b[0m\u001b[0;34m]\u001b[0m\u001b[0;34m.\u001b[0m\u001b[0mget_text\u001b[0m\u001b[0;34m(\u001b[0m\u001b[0;34m)\u001b[0m\u001b[0;34m.\u001b[0m\u001b[0msplit\u001b[0m\u001b[0;34m(\u001b[0m\u001b[0;34m)\u001b[0m\u001b[0;34m[\u001b[0m\u001b[0;36m0\u001b[0m\u001b[0;34m]\u001b[0m\u001b[0;34m)\u001b[0m\u001b[0;34m\u001b[0m\u001b[0m\n\u001b[0m",
      "\u001b[0;31mValueError\u001b[0m: invalid literal for int() with base 10: '11,229'"
     ]
    }
   ],
   "source": [
    "video_data['views'] = int(soup.select('.watch-view-count')[0].get_text().split()[0])"
   ]
  },
  {
   "cell_type": "code",
   "execution_count": 20,
   "metadata": {},
   "outputs": [],
   "source": [
    "video_data = {}"
   ]
  },
  {
   "cell_type": "code",
   "execution_count": 21,
   "metadata": {},
   "outputs": [
    {
     "ename": "IndexError",
     "evalue": "list index out of range",
     "output_type": "error",
     "traceback": [
      "\u001b[0;31m---------------------------------------------------------------------------\u001b[0m",
      "\u001b[0;31mIndexError\u001b[0m                                Traceback (most recent call last)",
      "\u001b[0;32m<ipython-input-21-3a637486895d>\u001b[0m in \u001b[0;36m<module>\u001b[0;34m()\u001b[0m\n\u001b[0;32m----> 1\u001b[0;31m \u001b[0mvideo_data\u001b[0m\u001b[0;34m[\u001b[0m\u001b[0;34m'title'\u001b[0m\u001b[0;34m]\u001b[0m \u001b[0;34m=\u001b[0m \u001b[0msoup\u001b[0m\u001b[0;34m.\u001b[0m\u001b[0mselect\u001b[0m\u001b[0;34m(\u001b[0m\u001b[0;34m'.entry-title a[href^=https:]'\u001b[0m\u001b[0;34m)\u001b[0m\u001b[0;34m[\u001b[0m\u001b[0;36m0\u001b[0m\u001b[0;34m]\u001b[0m\u001b[0;34m.\u001b[0m\u001b[0mget_text\u001b[0m\u001b[0;34m(\u001b[0m\u001b[0;34m)\u001b[0m\u001b[0;34m\u001b[0m\u001b[0m\n\u001b[0m",
      "\u001b[0;31mIndexError\u001b[0m: list index out of range"
     ]
    }
   ],
   "source": [
    "video_data['title'] = soup.select('.entry-title a[href^=https:]')[0].get_text()"
   ]
  },
  {
   "cell_type": "code",
   "execution_count": 22,
   "metadata": {},
   "outputs": [
    {
     "name": "stdout",
     "output_type": "stream",
     "text": [
      "{}\n"
     ]
    }
   ],
   "source": [
    "print video_data"
   ]
  },
  {
   "cell_type": "code",
   "execution_count": 191,
   "metadata": {},
   "outputs": [],
   "source": [
    "video_data['time'] = soup.select('time.published')[0].get_text()"
   ]
  },
  {
   "cell_type": "code",
   "execution_count": 193,
   "metadata": {},
   "outputs": [],
   "source": [
    "video_data['speakers'] = [a.get_text() for a in soup.select('address.author a[href^=https://pyvideo.org/speaker]')]"
   ]
  },
  {
   "cell_type": "code",
   "execution_count": 195,
   "metadata": {},
   "outputs": [],
   "source": [
    "video_data['youtube_url'] = [a.attrs.get('href') for a in soup.select('div.details-content a[href^=https://www.youtube.com]')]"
   ]
  },
  {
   "cell_type": "code",
   "execution_count": 198,
   "metadata": {},
   "outputs": [],
   "source": [
    "response = requests.get(video_data['youtube_url'][0])"
   ]
  },
  {
   "cell_type": "code",
   "execution_count": null,
   "metadata": {},
   "outputs": [],
   "source": []
  }
 ],
 "metadata": {
  "kernelspec": {
   "display_name": "Python 3",
   "language": "python",
   "name": "python3"
  },
  "language_info": {
   "codemirror_mode": {
    "name": "ipython",
    "version": 3
   },
   "file_extension": ".py",
   "mimetype": "text/x-python",
   "name": "python",
   "nbconvert_exporter": "python",
   "pygments_lexer": "ipython3",
   "version": "3.8.5"
  }
 },
 "nbformat": 4,
 "nbformat_minor": 2
}
