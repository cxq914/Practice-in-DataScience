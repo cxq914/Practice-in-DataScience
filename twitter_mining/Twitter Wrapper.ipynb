{
 "cells": [
  {
   "cell_type": "code",
   "execution_count": 3,
   "metadata": {},
   "outputs": [],
   "source": [
    "#Import the necessary methods from tweepy library\n",
    "from tweepy.streaming import StreamListener\n",
    "from tweepy import OAuthHandler\n",
    "from tweepy import Stream"
   ]
  },
  {
   "cell_type": "code",
   "execution_count": 4,
   "metadata": {},
   "outputs": [],
   "source": [
    "import json\n",
    "import pandas as pd\n",
    "import matplotlib.pyplot as plt"
   ]
  },
  {
   "cell_type": "code",
   "execution_count": 5,
   "metadata": {},
   "outputs": [],
   "source": [
    "tweets_data_path = '../twitter_data_0512.txt'\n",
    "\n",
    "tweets_data = []\n",
    "tweets_file = open(tweets_data_path, \"r\")\n",
    "for line in tweets_file:\n",
    "    try:\n",
    "        tweet = json.loads(line)\n",
    "        tweets_data.append(tweet)\n",
    "    except:\n",
    "        continue"
   ]
  },
  {
   "cell_type": "code",
   "execution_count": 6,
   "metadata": {},
   "outputs": [
    {
     "name": "stdout",
     "output_type": "stream",
     "text": [
      "40425\n"
     ]
    }
   ],
   "source": [
    "print(len(tweets_data))"
   ]
  },
  {
   "cell_type": "code",
   "execution_count": 7,
   "metadata": {},
   "outputs": [
    {
     "data": {
      "text/plain": [
       "{u'contributors': None,\n",
       " u'coordinates': None,\n",
       " u'created_at': u'Sun May 12 21:54:33 +0000 2019',\n",
       " u'entities': {u'hashtags': [],\n",
       "  u'symbols': [],\n",
       "  u'urls': [],\n",
       "  u'user_mentions': [{u'id': 2352380418,\n",
       "    u'id_str': u'2352380418',\n",
       "    u'indices': [3, 14],\n",
       "    u'name': u'All Children Reading',\n",
       "    u'screen_name': u'ReadingGCD'}]},\n",
       " u'favorite_count': 0,\n",
       " u'favorited': False,\n",
       " u'filter_level': u'low',\n",
       " u'geo': None,\n",
       " u'id': 1127693569068761090,\n",
       " u'id_str': u'1127693569068761090',\n",
       " u'in_reply_to_screen_name': None,\n",
       " u'in_reply_to_status_id': None,\n",
       " u'in_reply_to_status_id_str': None,\n",
       " u'in_reply_to_user_id': None,\n",
       " u'in_reply_to_user_id_str': None,\n",
       " u'is_quote_status': False,\n",
       " u'lang': u'en',\n",
       " u'place': None,\n",
       " u'quote_count': 0,\n",
       " u'reply_count': 0,\n",
       " u'retweet_count': 0,\n",
       " u'retweeted': False,\n",
       " u'retweeted_status': {u'contributors': None,\n",
       "  u'coordinates': None,\n",
       "  u'created_at': u'Sun May 12 16:00:01 +0000 2019',\n",
       "  u'entities': {u'hashtags': [],\n",
       "   u'symbols': [],\n",
       "   u'urls': [{u'display_url': u'twitter.com/i/web/status/1\\u2026',\n",
       "     u'expanded_url': u'https://twitter.com/i/web/status/1127604350531063814',\n",
       "     u'indices': [117, 140],\n",
       "     u'url': u'https://t.co/b5PXCiDqCn'}],\n",
       "   u'user_mentions': []},\n",
       "  u'extended_tweet': {u'display_text_range': [0, 279],\n",
       "   u'entities': {u'hashtags': [{u'indices': [237, 246], u'text': u'learning'},\n",
       "     {u'indices': [248, 255], u'text': u'engage'}],\n",
       "    u'symbols': [],\n",
       "    u'urls': [{u'display_url': u'bit.ly/2Vc6cpo',\n",
       "      u'expanded_url': u'http://bit.ly/2Vc6cpo',\n",
       "      u'indices': [256, 279],\n",
       "      u'url': u'https://t.co/zpajOvHs8d'}],\n",
       "    u'user_mentions': []},\n",
       "   u'full_text': u'What if we take childhood curiosity as a starting point and channel it towards math and literacy learning, in a way that interests them? Learn the new ways in which the Dominican Republic is attempting to spark the interest of children. #learning  #engage https://t.co/zpajOvHs8d'},\n",
       "  u'favorite_count': 1,\n",
       "  u'favorited': False,\n",
       "  u'filter_level': u'low',\n",
       "  u'geo': None,\n",
       "  u'id': 1127604350531063814,\n",
       "  u'id_str': u'1127604350531063814',\n",
       "  u'in_reply_to_screen_name': None,\n",
       "  u'in_reply_to_status_id': None,\n",
       "  u'in_reply_to_status_id_str': None,\n",
       "  u'in_reply_to_user_id': None,\n",
       "  u'in_reply_to_user_id_str': None,\n",
       "  u'is_quote_status': False,\n",
       "  u'lang': u'en',\n",
       "  u'place': None,\n",
       "  u'possibly_sensitive': False,\n",
       "  u'quote_count': 1,\n",
       "  u'reply_count': 0,\n",
       "  u'retweet_count': 1,\n",
       "  u'retweeted': False,\n",
       "  u'source': u'<a href=\"https://about.twitter.com/products/tweetdeck\" rel=\"nofollow\">TweetDeck</a>',\n",
       "  u'text': u'What if we take childhood curiosity as a starting point and channel it towards math and literacy learning, in a way\\u2026 https://t.co/b5PXCiDqCn',\n",
       "  u'truncated': True,\n",
       "  u'user': {u'contributors_enabled': False,\n",
       "   u'created_at': u'Wed Feb 19 23:24:51 +0000 2014',\n",
       "   u'default_profile': False,\n",
       "   u'default_profile_image': False,\n",
       "   u'description': u'A USAID, World Vision & Australian Government partnership seeking technology-based innovations to improve reading outcomes for children in developing countries.',\n",
       "   u'favourites_count': 1002,\n",
       "   u'follow_request_sent': None,\n",
       "   u'followers_count': 3419,\n",
       "   u'following': None,\n",
       "   u'friends_count': 657,\n",
       "   u'geo_enabled': False,\n",
       "   u'id': 2352380418,\n",
       "   u'id_str': u'2352380418',\n",
       "   u'is_translator': False,\n",
       "   u'lang': u'en',\n",
       "   u'listed_count': 186,\n",
       "   u'location': u'RT \\u2260 endorsement',\n",
       "   u'name': u'All Children Reading',\n",
       "   u'notifications': None,\n",
       "   u'profile_background_color': u'A7B2B8',\n",
       "   u'profile_background_image_url': u'http://abs.twimg.com/images/themes/theme14/bg.gif',\n",
       "   u'profile_background_image_url_https': u'https://abs.twimg.com/images/themes/theme14/bg.gif',\n",
       "   u'profile_background_tile': True,\n",
       "   u'profile_banner_url': u'https://pbs.twimg.com/profile_banners/2352380418/1521137397',\n",
       "   u'profile_image_url': u'http://pbs.twimg.com/profile_images/436282708478537728/wOJfW1ef_normal.jpeg',\n",
       "   u'profile_image_url_https': u'https://pbs.twimg.com/profile_images/436282708478537728/wOJfW1ef_normal.jpeg',\n",
       "   u'profile_link_color': u'001F99',\n",
       "   u'profile_sidebar_border_color': u'FFFFFF',\n",
       "   u'profile_sidebar_fill_color': u'DDEEF6',\n",
       "   u'profile_text_color': u'333333',\n",
       "   u'profile_use_background_image': True,\n",
       "   u'protected': False,\n",
       "   u'screen_name': u'ReadingGCD',\n",
       "   u'statuses_count': 8135,\n",
       "   u'time_zone': None,\n",
       "   u'translator_type': u'none',\n",
       "   u'url': u'http://www.AllChildrenReading.org',\n",
       "   u'utc_offset': None,\n",
       "   u'verified': False}},\n",
       " u'source': u'<a href=\"http://twitter.com/download/android\" rel=\"nofollow\">Twitter for Android</a>',\n",
       " u'text': u'RT @ReadingGCD: What if we take childhood curiosity as a starting point and channel it towards math and literacy learning, in a way that in\\u2026',\n",
       " u'timestamp_ms': u'1557698073056',\n",
       " u'truncated': False,\n",
       " u'user': {u'contributors_enabled': False,\n",
       "  u'created_at': u'Thu Feb 12 18:00:21 +0000 2015',\n",
       "  u'default_profile': False,\n",
       "  u'default_profile_image': False,\n",
       "  u'description': u\"Literary and human rights activist, children's literature specialist\",\n",
       "  u'favourites_count': 7660,\n",
       "  u'follow_request_sent': None,\n",
       "  u'followers_count': 5203,\n",
       "  u'following': None,\n",
       "  u'friends_count': 1796,\n",
       "  u'geo_enabled': True,\n",
       "  u'id': 3033128813,\n",
       "  u'id_str': u'3033128813',\n",
       "  u'is_translator': False,\n",
       "  u'lang': u'en',\n",
       "  u'listed_count': 60,\n",
       "  u'location': None,\n",
       "  u'name': u'Elinor Sisulu',\n",
       "  u'notifications': None,\n",
       "  u'profile_background_color': u'000000',\n",
       "  u'profile_background_image_url': u'http://abs.twimg.com/images/themes/theme1/bg.png',\n",
       "  u'profile_background_image_url_https': u'https://abs.twimg.com/images/themes/theme1/bg.png',\n",
       "  u'profile_background_tile': False,\n",
       "  u'profile_banner_url': u'https://pbs.twimg.com/profile_banners/3033128813/1426098776',\n",
       "  u'profile_image_url': u'http://pbs.twimg.com/profile_images/569776025853100032/09HtvjAb_normal.jpeg',\n",
       "  u'profile_image_url_https': u'https://pbs.twimg.com/profile_images/569776025853100032/09HtvjAb_normal.jpeg',\n",
       "  u'profile_link_color': u'FA743E',\n",
       "  u'profile_sidebar_border_color': u'000000',\n",
       "  u'profile_sidebar_fill_color': u'000000',\n",
       "  u'profile_text_color': u'000000',\n",
       "  u'profile_use_background_image': False,\n",
       "  u'protected': False,\n",
       "  u'screen_name': u'ElinorSisulu',\n",
       "  u'statuses_count': 9812,\n",
       "  u'time_zone': None,\n",
       "  u'translator_type': u'none',\n",
       "  u'url': None,\n",
       "  u'utc_offset': None,\n",
       "  u'verified': False}}"
      ]
     },
     "execution_count": 7,
     "metadata": {},
     "output_type": "execute_result"
    }
   ],
   "source": [
    "tweets_data[1]"
   ]
  },
  {
   "cell_type": "code",
   "execution_count": 18,
   "metadata": {},
   "outputs": [
    {
     "data": {
      "text/plain": [
       "{u'contributors_enabled': False,\n",
       " u'created_at': u'Thu Feb 12 18:00:21 +0000 2015',\n",
       " u'default_profile': False,\n",
       " u'default_profile_image': False,\n",
       " u'description': u\"Literary and human rights activist, children's literature specialist\",\n",
       " u'favourites_count': 7660,\n",
       " u'follow_request_sent': None,\n",
       " u'followers_count': 5203,\n",
       " u'following': None,\n",
       " u'friends_count': 1796,\n",
       " u'geo_enabled': True,\n",
       " u'id': 3033128813,\n",
       " u'id_str': u'3033128813',\n",
       " u'is_translator': False,\n",
       " u'lang': u'en',\n",
       " u'listed_count': 60,\n",
       " u'location': None,\n",
       " u'name': u'Elinor Sisulu',\n",
       " u'notifications': None,\n",
       " u'profile_background_color': u'000000',\n",
       " u'profile_background_image_url': u'http://abs.twimg.com/images/themes/theme1/bg.png',\n",
       " u'profile_background_image_url_https': u'https://abs.twimg.com/images/themes/theme1/bg.png',\n",
       " u'profile_background_tile': False,\n",
       " u'profile_banner_url': u'https://pbs.twimg.com/profile_banners/3033128813/1426098776',\n",
       " u'profile_image_url': u'http://pbs.twimg.com/profile_images/569776025853100032/09HtvjAb_normal.jpeg',\n",
       " u'profile_image_url_https': u'https://pbs.twimg.com/profile_images/569776025853100032/09HtvjAb_normal.jpeg',\n",
       " u'profile_link_color': u'FA743E',\n",
       " u'profile_sidebar_border_color': u'000000',\n",
       " u'profile_sidebar_fill_color': u'000000',\n",
       " u'profile_text_color': u'000000',\n",
       " u'profile_use_background_image': False,\n",
       " u'protected': False,\n",
       " u'screen_name': u'ElinorSisulu',\n",
       " u'statuses_count': 9812,\n",
       " u'time_zone': None,\n",
       " u'translator_type': u'none',\n",
       " u'url': None,\n",
       " u'utc_offset': None,\n",
       " u'verified': False}"
      ]
     },
     "execution_count": 18,
     "metadata": {},
     "output_type": "execute_result"
    }
   ],
   "source": [
    "tweets_data[1]['user']"
   ]
  },
  {
   "cell_type": "code",
   "execution_count": 23,
   "metadata": {},
   "outputs": [],
   "source": [
    "tweets = pd.DataFrame()\n",
    "tweet_text = pd.Series([]) \n",
    "tweet_lang = pd.Series([]) \n"
   ]
  },
  {
   "cell_type": "code",
   "execution_count": 24,
   "metadata": {},
   "outputs": [],
   "source": [
    "i = 0\n",
    "for x in tweets_data:\n",
    "    try:\n",
    "        tweet_text[i] = x['text']\n",
    "        tweet_lang[i] = x['lang']\n",
    "        i = i+1\n",
    "    except:\n",
    "        continue"
   ]
  },
  {
   "cell_type": "code",
   "execution_count": 26,
   "metadata": {},
   "outputs": [],
   "source": [
    "tweets.insert(0, \"text\", text) \n",
    "tweets.insert(1,\"lang\",lang)"
   ]
  },
  {
   "cell_type": "code",
   "execution_count": 27,
   "metadata": {},
   "outputs": [
    {
     "data": {
      "text/html": [
       "<div>\n",
       "<style scoped>\n",
       "    .dataframe tbody tr th:only-of-type {\n",
       "        vertical-align: middle;\n",
       "    }\n",
       "\n",
       "    .dataframe tbody tr th {\n",
       "        vertical-align: top;\n",
       "    }\n",
       "\n",
       "    .dataframe thead th {\n",
       "        text-align: right;\n",
       "    }\n",
       "</style>\n",
       "<table border=\"1\" class=\"dataframe\">\n",
       "  <thead>\n",
       "    <tr style=\"text-align: right;\">\n",
       "      <th></th>\n",
       "      <th>text</th>\n",
       "    </tr>\n",
       "  </thead>\n",
       "  <tbody>\n",
       "    <tr>\n",
       "      <th>0</th>\n",
       "      <td>@brettbenham @jnadms @Kate_Kelly_Esq Sure Bret...</td>\n",
       "    </tr>\n",
       "    <tr>\n",
       "      <th>1</th>\n",
       "      <td>RT @ReadingGCD: What if we take childhood curi...</td>\n",
       "    </tr>\n",
       "    <tr>\n",
       "      <th>2</th>\n",
       "      <td>@penelope7usa @ChipsAhoy I didn’t have to watc...</td>\n",
       "    </tr>\n",
       "    <tr>\n",
       "      <th>3</th>\n",
       "      <td>RT @babylemur: Banning abortion? How about we ...</td>\n",
       "    </tr>\n",
       "    <tr>\n",
       "      <th>4</th>\n",
       "      <td>RT @sevreds: can’t believe my cat didn’t get m...</td>\n",
       "    </tr>\n",
       "  </tbody>\n",
       "</table>\n",
       "</div>"
      ],
      "text/plain": [
       "                                                text\n",
       "0  @brettbenham @jnadms @Kate_Kelly_Esq Sure Bret...\n",
       "1  RT @ReadingGCD: What if we take childhood curi...\n",
       "2  @penelope7usa @ChipsAhoy I didn’t have to watc...\n",
       "3  RT @babylemur: Banning abortion? How about we ...\n",
       "4  RT @sevreds: can’t believe my cat didn’t get m..."
      ]
     },
     "execution_count": 27,
     "metadata": {},
     "output_type": "execute_result"
    }
   ],
   "source": [
    "tweets.head()"
   ]
  },
  {
   "cell_type": "code",
   "execution_count": 54,
   "metadata": {},
   "outputs": [
    {
     "ename": "SyntaxError",
     "evalue": "invalid syntax (<ipython-input-54-943b9f8f1ef6>, line 1)",
     "output_type": "error",
     "traceback": [
      "\u001b[0;36m  File \u001b[0;32m\"<ipython-input-54-943b9f8f1ef6>\"\u001b[0;36m, line \u001b[0;32m1\u001b[0m\n\u001b[0;31m    tweets['text'] = list(map(lambda tweet: try:\u001b[0m\n\u001b[0m                                              ^\u001b[0m\n\u001b[0;31mSyntaxError\u001b[0m\u001b[0;31m:\u001b[0m invalid syntax\n"
     ]
    }
   ],
   "source": [
    "tweets['text'] = list(map(lambda tweet: tweet['text'], tweets_data))\n",
    "tweets['lang'] = list(map(lambda tweet: tweet['lang'], tweets_data))\n",
    "#tweets['country'] = list(map(lambda tweet: tweet['place']['country'] if tweet['place'] != None else None, tweets_data))"
   ]
  },
  {
   "cell_type": "code",
   "execution_count": 36,
   "metadata": {},
   "outputs": [
    {
     "data": {
      "text/plain": [
       "<matplotlib.axes._subplots.AxesSubplot at 0x10c57ebe0>"
      ]
     },
     "execution_count": 36,
     "metadata": {},
     "output_type": "execute_result"
    },
    {
     "data": {
      "image/png": "[encoded data removed]",
      "text/plain": [
       "<Figure size 432x288 with 1 Axes>"
      ]
     },
     "metadata": {},
     "output_type": "display_data"
    }
   ],
   "source": [
    "tweets_by_lang = tweets['lang'].value_counts()\n",
    "\n",
    "fig, ax = plt.subplots()\n",
    "ax.tick_params(axis='x', labelsize=15)\n",
    "ax.tick_params(axis='y', labelsize=10)\n",
    "ax.set_xlabel('Languages', fontsize=15)\n",
    "ax.set_ylabel('Number of tweets' , fontsize=15)\n",
    "ax.set_title('Top 5 languages', fontsize=15, fontweight='bold')\n",
    "tweets_by_lang[:5].plot(ax=ax, kind='bar', color='red')"
   ]
  },
  {
   "cell_type": "code",
   "execution_count": null,
   "metadata": {},
   "outputs": [],
   "source": []
  },
  {
   "cell_type": "code",
   "execution_count": 20,
   "metadata": {},
   "outputs": [
    {
     "data": {
      "text/html": [
       "<div>\n",
       "<style scoped>\n",
       "    .dataframe tbody tr th:only-of-type {\n",
       "        vertical-align: middle;\n",
       "    }\n",
       "\n",
       "    .dataframe tbody tr th {\n",
       "        vertical-align: top;\n",
       "    }\n",
       "\n",
       "    .dataframe thead th {\n",
       "        text-align: right;\n",
       "    }\n",
       "</style>\n",
       "<table border=\"1\" class=\"dataframe\">\n",
       "  <thead>\n",
       "    <tr style=\"text-align: right;\">\n",
       "      <th></th>\n",
       "    </tr>\n",
       "  </thead>\n",
       "  <tbody>\n",
       "  </tbody>\n",
       "</table>\n",
       "</div>"
      ],
      "text/plain": [
       "Empty DataFrame\n",
       "Columns: []\n",
       "Index: []"
      ]
     },
     "execution_count": 20,
     "metadata": {},
     "output_type": "execute_result"
    }
   ],
   "source": [
    "tweets"
   ]
  },
  {
   "cell_type": "code",
   "execution_count": null,
   "metadata": {},
   "outputs": [],
   "source": []
  }
 ],
 "metadata": {
  "kernelspec": {
   "display_name": "Python 2",
   "language": "python",
   "name": "python2"
  },
  "language_info": {
   "codemirror_mode": {
    "name": "ipython",
    "version": 2
   },
   "file_extension": ".py",
   "mimetype": "text/x-python",
   "name": "python",
   "nbconvert_exporter": "python",
   "pygments_lexer": "ipython2",
   "version": "2.7.15"
  }
 },
 "nbformat": 4,
 "nbformat_minor": 2
}
